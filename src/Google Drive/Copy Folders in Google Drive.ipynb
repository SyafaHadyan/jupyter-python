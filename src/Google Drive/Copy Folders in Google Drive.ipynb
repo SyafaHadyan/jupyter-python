#@title Copy Folders in Google Drive
from google.colab import drive
import os

drive.mount('/gdrive')

src_path = '/gdrive/MyDrive/Shortcut/Dir/Dir0' #@param {type: 'string'}
assert os.path.exists(src_path), f"Source '{src_path}' doesn't exist!"

target_path = '/gdrive/MyDrive/Shared/Dir' #@param {type: 'string'}
os.makedirs(target_path, exist_ok=True)
assert os.path.exists(target_path), f"Target '{target_path}' doesn't exist!"

target_path = os.path.join(target_path, os.path.basename(src_path))
print(f'Copying from "{src_path}" to "{target_path}"')
os.makedirs(target_path, exist_ok=True)
!cp -rf "$src_path"/* "$target_path"

print("Successfully copied all files and folders")
